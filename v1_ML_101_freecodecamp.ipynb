{
 "cells": [
  {
   "cell_type": "code",
   "execution_count": 1,
   "metadata": {},
   "outputs": [
    {
     "data": {
      "text/plain": [
       "'\\nLearn Machine Learning in a way that is accessible to absolute beginners. You will learn the basics of Machine Learning and how to use TensorFlow to implement many different concepts.\\n\\n✏️ Kylie Ying developed this course. Check out her channel:   \\n\\n / ycubed  \\n\\n⭐️ Code and Resources ⭐️\\n🔗 Supervised learning (classification/MAGIC): https://colab.research.google.com/dri...\\n🔗 Supervised learning (regression/bikes): https://colab.research.google.com/dri...\\n🔗 Unsupervised learning (seeds): https://colab.research.google.com/dri...\\n🔗 Dataets (add a note that for the bikes dataset, they may have to open the downloaded csv file and remove special characters)\\n🔗 MAGIC dataset: https://archive.ics.uci.edu/ml/datase...\\n🔗 Bikes dataset: https://archive.ics.uci.edu/ml/datase...\\n🔗 Seeds/wheat dataset: https://archive.ics.uci.edu/ml/datase...\\n'"
      ]
     },
     "execution_count": 1,
     "metadata": {},
     "output_type": "execute_result"
    }
   ],
   "source": [
    "'''\n",
    "Learn Machine Learning in a way that is accessible to absolute beginners. You will learn the basics of Machine Learning and how to use TensorFlow to implement many different concepts.\n",
    "\n",
    "✏️ Kylie Ying developed this course. Check out her channel:   \n",
    "\n",
    " / ycubed  \n",
    "\n",
    "⭐️ Code and Resources ⭐️\n",
    "🔗 Supervised learning (classification/MAGIC): https://colab.research.google.com/dri...\n",
    "🔗 Supervised learning (regression/bikes): https://colab.research.google.com/dri...\n",
    "🔗 Unsupervised learning (seeds): https://colab.research.google.com/dri...\n",
    "🔗 Dataets (add a note that for the bikes dataset, they may have to open the downloaded csv file and remove special characters)\n",
    "🔗 MAGIC dataset: https://archive.ics.uci.edu/ml/datase...\n",
    "🔗 Bikes dataset: https://archive.ics.uci.edu/ml/datase...\n",
    "🔗 Seeds/wheat dataset: https://archive.ics.uci.edu/ml/datase...\n",
    "'''"
   ]
  },
  {
   "cell_type": "code",
   "execution_count": 42,
   "metadata": {},
   "outputs": [],
   "source": [
    "import pandas as pd\n",
    "import numpy as np\n",
    "import matplotlib.pyplot as plt\n",
    "from sklearn.model_selection import train_test_split\n",
    "from sklearn.preprocessing import StandardScaler\n",
    "from imblearn.over_sampling import RandomOverSampler"
   ]
  },
  {
   "cell_type": "code",
   "execution_count": 3,
   "metadata": {},
   "outputs": [
    {
     "data": {
      "text/html": [
       "<div>\n",
       "<style scoped>\n",
       "    .dataframe tbody tr th:only-of-type {\n",
       "        vertical-align: middle;\n",
       "    }\n",
       "\n",
       "    .dataframe tbody tr th {\n",
       "        vertical-align: top;\n",
       "    }\n",
       "\n",
       "    .dataframe thead th {\n",
       "        text-align: right;\n",
       "    }\n",
       "</style>\n",
       "<table border=\"1\" class=\"dataframe\">\n",
       "  <thead>\n",
       "    <tr style=\"text-align: right;\">\n",
       "      <th></th>\n",
       "      <th>fLength</th>\n",
       "      <th>fWidth</th>\n",
       "      <th>fSize</th>\n",
       "      <th>fConc</th>\n",
       "      <th>fConc1</th>\n",
       "      <th>fAsym</th>\n",
       "      <th>fM3Long</th>\n",
       "      <th>fM3Trans</th>\n",
       "      <th>fAlpha</th>\n",
       "      <th>fDist</th>\n",
       "      <th>class</th>\n",
       "    </tr>\n",
       "  </thead>\n",
       "  <tbody>\n",
       "    <tr>\n",
       "      <th>0</th>\n",
       "      <td>28.7967</td>\n",
       "      <td>16.0021</td>\n",
       "      <td>2.6449</td>\n",
       "      <td>0.3918</td>\n",
       "      <td>0.1982</td>\n",
       "      <td>27.7004</td>\n",
       "      <td>22.0110</td>\n",
       "      <td>-8.2027</td>\n",
       "      <td>40.0920</td>\n",
       "      <td>81.8828</td>\n",
       "      <td>g</td>\n",
       "    </tr>\n",
       "    <tr>\n",
       "      <th>1</th>\n",
       "      <td>31.6036</td>\n",
       "      <td>11.7235</td>\n",
       "      <td>2.5185</td>\n",
       "      <td>0.5303</td>\n",
       "      <td>0.3773</td>\n",
       "      <td>26.2722</td>\n",
       "      <td>23.8238</td>\n",
       "      <td>-9.9574</td>\n",
       "      <td>6.3609</td>\n",
       "      <td>205.2610</td>\n",
       "      <td>g</td>\n",
       "    </tr>\n",
       "    <tr>\n",
       "      <th>2</th>\n",
       "      <td>162.0520</td>\n",
       "      <td>136.0310</td>\n",
       "      <td>4.0612</td>\n",
       "      <td>0.0374</td>\n",
       "      <td>0.0187</td>\n",
       "      <td>116.7410</td>\n",
       "      <td>-64.8580</td>\n",
       "      <td>-45.2160</td>\n",
       "      <td>76.9600</td>\n",
       "      <td>256.7880</td>\n",
       "      <td>g</td>\n",
       "    </tr>\n",
       "    <tr>\n",
       "      <th>3</th>\n",
       "      <td>23.8172</td>\n",
       "      <td>9.5728</td>\n",
       "      <td>2.3385</td>\n",
       "      <td>0.6147</td>\n",
       "      <td>0.3922</td>\n",
       "      <td>27.2107</td>\n",
       "      <td>-6.4633</td>\n",
       "      <td>-7.1513</td>\n",
       "      <td>10.4490</td>\n",
       "      <td>116.7370</td>\n",
       "      <td>g</td>\n",
       "    </tr>\n",
       "    <tr>\n",
       "      <th>4</th>\n",
       "      <td>75.1362</td>\n",
       "      <td>30.9205</td>\n",
       "      <td>3.1611</td>\n",
       "      <td>0.3168</td>\n",
       "      <td>0.1832</td>\n",
       "      <td>-5.5277</td>\n",
       "      <td>28.5525</td>\n",
       "      <td>21.8393</td>\n",
       "      <td>4.6480</td>\n",
       "      <td>356.4620</td>\n",
       "      <td>g</td>\n",
       "    </tr>\n",
       "    <tr>\n",
       "      <th>...</th>\n",
       "      <td>...</td>\n",
       "      <td>...</td>\n",
       "      <td>...</td>\n",
       "      <td>...</td>\n",
       "      <td>...</td>\n",
       "      <td>...</td>\n",
       "      <td>...</td>\n",
       "      <td>...</td>\n",
       "      <td>...</td>\n",
       "      <td>...</td>\n",
       "      <td>...</td>\n",
       "    </tr>\n",
       "    <tr>\n",
       "      <th>19015</th>\n",
       "      <td>21.3846</td>\n",
       "      <td>10.9170</td>\n",
       "      <td>2.6161</td>\n",
       "      <td>0.5857</td>\n",
       "      <td>0.3934</td>\n",
       "      <td>15.2618</td>\n",
       "      <td>11.5245</td>\n",
       "      <td>2.8766</td>\n",
       "      <td>2.4229</td>\n",
       "      <td>106.8258</td>\n",
       "      <td>h</td>\n",
       "    </tr>\n",
       "    <tr>\n",
       "      <th>19016</th>\n",
       "      <td>28.9452</td>\n",
       "      <td>6.7020</td>\n",
       "      <td>2.2672</td>\n",
       "      <td>0.5351</td>\n",
       "      <td>0.2784</td>\n",
       "      <td>37.0816</td>\n",
       "      <td>13.1853</td>\n",
       "      <td>-2.9632</td>\n",
       "      <td>86.7975</td>\n",
       "      <td>247.4560</td>\n",
       "      <td>h</td>\n",
       "    </tr>\n",
       "    <tr>\n",
       "      <th>19017</th>\n",
       "      <td>75.4455</td>\n",
       "      <td>47.5305</td>\n",
       "      <td>3.4483</td>\n",
       "      <td>0.1417</td>\n",
       "      <td>0.0549</td>\n",
       "      <td>-9.3561</td>\n",
       "      <td>41.0562</td>\n",
       "      <td>-9.4662</td>\n",
       "      <td>30.2987</td>\n",
       "      <td>256.5166</td>\n",
       "      <td>h</td>\n",
       "    </tr>\n",
       "    <tr>\n",
       "      <th>19018</th>\n",
       "      <td>120.5135</td>\n",
       "      <td>76.9018</td>\n",
       "      <td>3.9939</td>\n",
       "      <td>0.0944</td>\n",
       "      <td>0.0683</td>\n",
       "      <td>5.8043</td>\n",
       "      <td>-93.5224</td>\n",
       "      <td>-63.8389</td>\n",
       "      <td>84.6874</td>\n",
       "      <td>408.3166</td>\n",
       "      <td>h</td>\n",
       "    </tr>\n",
       "    <tr>\n",
       "      <th>19019</th>\n",
       "      <td>187.1814</td>\n",
       "      <td>53.0014</td>\n",
       "      <td>3.2093</td>\n",
       "      <td>0.2876</td>\n",
       "      <td>0.1539</td>\n",
       "      <td>-167.3125</td>\n",
       "      <td>-168.4558</td>\n",
       "      <td>31.4755</td>\n",
       "      <td>52.7310</td>\n",
       "      <td>272.3174</td>\n",
       "      <td>h</td>\n",
       "    </tr>\n",
       "  </tbody>\n",
       "</table>\n",
       "<p>19020 rows × 11 columns</p>\n",
       "</div>"
      ],
      "text/plain": [
       "        fLength    fWidth   fSize   fConc  fConc1     fAsym   fM3Long  \\\n",
       "0       28.7967   16.0021  2.6449  0.3918  0.1982   27.7004   22.0110   \n",
       "1       31.6036   11.7235  2.5185  0.5303  0.3773   26.2722   23.8238   \n",
       "2      162.0520  136.0310  4.0612  0.0374  0.0187  116.7410  -64.8580   \n",
       "3       23.8172    9.5728  2.3385  0.6147  0.3922   27.2107   -6.4633   \n",
       "4       75.1362   30.9205  3.1611  0.3168  0.1832   -5.5277   28.5525   \n",
       "...         ...       ...     ...     ...     ...       ...       ...   \n",
       "19015   21.3846   10.9170  2.6161  0.5857  0.3934   15.2618   11.5245   \n",
       "19016   28.9452    6.7020  2.2672  0.5351  0.2784   37.0816   13.1853   \n",
       "19017   75.4455   47.5305  3.4483  0.1417  0.0549   -9.3561   41.0562   \n",
       "19018  120.5135   76.9018  3.9939  0.0944  0.0683    5.8043  -93.5224   \n",
       "19019  187.1814   53.0014  3.2093  0.2876  0.1539 -167.3125 -168.4558   \n",
       "\n",
       "       fM3Trans   fAlpha     fDist class  \n",
       "0       -8.2027  40.0920   81.8828     g  \n",
       "1       -9.9574   6.3609  205.2610     g  \n",
       "2      -45.2160  76.9600  256.7880     g  \n",
       "3       -7.1513  10.4490  116.7370     g  \n",
       "4       21.8393   4.6480  356.4620     g  \n",
       "...         ...      ...       ...   ...  \n",
       "19015    2.8766   2.4229  106.8258     h  \n",
       "19016   -2.9632  86.7975  247.4560     h  \n",
       "19017   -9.4662  30.2987  256.5166     h  \n",
       "19018  -63.8389  84.6874  408.3166     h  \n",
       "19019   31.4755  52.7310  272.3174     h  \n",
       "\n",
       "[19020 rows x 11 columns]"
      ]
     },
     "execution_count": 3,
     "metadata": {},
     "output_type": "execute_result"
    }
   ],
   "source": [
    "path = \"dataset/magic04.data\"\n",
    "df = pd.read_csv(path, header=None)\n",
    "col_list = ['fLength',\n",
    "            'fWidth',  \n",
    "            'fSize',    \n",
    "            'fConc',   \n",
    "            'fConc1',  \n",
    "            'fAsym',   \n",
    "            'fM3Long',  \n",
    "            'fM3Trans', \n",
    "            'fAlpha',  \n",
    "            'fDist',  \n",
    "            'class']\n",
    "df.columns = col_list\n",
    "df"
   ]
  },
  {
   "cell_type": "code",
   "execution_count": 4,
   "metadata": {},
   "outputs": [
    {
     "data": {
      "text/html": [
       "<div>\n",
       "<style scoped>\n",
       "    .dataframe tbody tr th:only-of-type {\n",
       "        vertical-align: middle;\n",
       "    }\n",
       "\n",
       "    .dataframe tbody tr th {\n",
       "        vertical-align: top;\n",
       "    }\n",
       "\n",
       "    .dataframe thead th {\n",
       "        text-align: right;\n",
       "    }\n",
       "</style>\n",
       "<table border=\"1\" class=\"dataframe\">\n",
       "  <thead>\n",
       "    <tr style=\"text-align: right;\">\n",
       "      <th></th>\n",
       "      <th>fLength</th>\n",
       "      <th>fWidth</th>\n",
       "      <th>fSize</th>\n",
       "      <th>fConc</th>\n",
       "      <th>fConc1</th>\n",
       "      <th>fAsym</th>\n",
       "      <th>fM3Long</th>\n",
       "      <th>fM3Trans</th>\n",
       "      <th>fAlpha</th>\n",
       "      <th>fDist</th>\n",
       "    </tr>\n",
       "  </thead>\n",
       "  <tbody>\n",
       "    <tr>\n",
       "      <th>count</th>\n",
       "      <td>19020.000000</td>\n",
       "      <td>19020.000000</td>\n",
       "      <td>19020.000000</td>\n",
       "      <td>19020.000000</td>\n",
       "      <td>19020.000000</td>\n",
       "      <td>19020.000000</td>\n",
       "      <td>19020.000000</td>\n",
       "      <td>19020.000000</td>\n",
       "      <td>19020.000000</td>\n",
       "      <td>19020.000000</td>\n",
       "    </tr>\n",
       "    <tr>\n",
       "      <th>mean</th>\n",
       "      <td>53.250154</td>\n",
       "      <td>22.180966</td>\n",
       "      <td>2.825017</td>\n",
       "      <td>0.380327</td>\n",
       "      <td>0.214657</td>\n",
       "      <td>-4.331745</td>\n",
       "      <td>10.545545</td>\n",
       "      <td>0.249726</td>\n",
       "      <td>27.645707</td>\n",
       "      <td>193.818026</td>\n",
       "    </tr>\n",
       "    <tr>\n",
       "      <th>std</th>\n",
       "      <td>42.364855</td>\n",
       "      <td>18.346056</td>\n",
       "      <td>0.472599</td>\n",
       "      <td>0.182813</td>\n",
       "      <td>0.110511</td>\n",
       "      <td>59.206062</td>\n",
       "      <td>51.000118</td>\n",
       "      <td>20.827439</td>\n",
       "      <td>26.103621</td>\n",
       "      <td>74.731787</td>\n",
       "    </tr>\n",
       "    <tr>\n",
       "      <th>min</th>\n",
       "      <td>4.283500</td>\n",
       "      <td>0.000000</td>\n",
       "      <td>1.941300</td>\n",
       "      <td>0.013100</td>\n",
       "      <td>0.000300</td>\n",
       "      <td>-457.916100</td>\n",
       "      <td>-331.780000</td>\n",
       "      <td>-205.894700</td>\n",
       "      <td>0.000000</td>\n",
       "      <td>1.282600</td>\n",
       "    </tr>\n",
       "    <tr>\n",
       "      <th>25%</th>\n",
       "      <td>24.336000</td>\n",
       "      <td>11.863800</td>\n",
       "      <td>2.477100</td>\n",
       "      <td>0.235800</td>\n",
       "      <td>0.128475</td>\n",
       "      <td>-20.586550</td>\n",
       "      <td>-12.842775</td>\n",
       "      <td>-10.849375</td>\n",
       "      <td>5.547925</td>\n",
       "      <td>142.492250</td>\n",
       "    </tr>\n",
       "    <tr>\n",
       "      <th>50%</th>\n",
       "      <td>37.147700</td>\n",
       "      <td>17.139900</td>\n",
       "      <td>2.739600</td>\n",
       "      <td>0.354150</td>\n",
       "      <td>0.196500</td>\n",
       "      <td>4.013050</td>\n",
       "      <td>15.314100</td>\n",
       "      <td>0.666200</td>\n",
       "      <td>17.679500</td>\n",
       "      <td>191.851450</td>\n",
       "    </tr>\n",
       "    <tr>\n",
       "      <th>75%</th>\n",
       "      <td>70.122175</td>\n",
       "      <td>24.739475</td>\n",
       "      <td>3.101600</td>\n",
       "      <td>0.503700</td>\n",
       "      <td>0.285225</td>\n",
       "      <td>24.063700</td>\n",
       "      <td>35.837800</td>\n",
       "      <td>10.946425</td>\n",
       "      <td>45.883550</td>\n",
       "      <td>240.563825</td>\n",
       "    </tr>\n",
       "    <tr>\n",
       "      <th>max</th>\n",
       "      <td>334.177000</td>\n",
       "      <td>256.382000</td>\n",
       "      <td>5.323300</td>\n",
       "      <td>0.893000</td>\n",
       "      <td>0.675200</td>\n",
       "      <td>575.240700</td>\n",
       "      <td>238.321000</td>\n",
       "      <td>179.851000</td>\n",
       "      <td>90.000000</td>\n",
       "      <td>495.561000</td>\n",
       "    </tr>\n",
       "  </tbody>\n",
       "</table>\n",
       "</div>"
      ],
      "text/plain": [
       "            fLength        fWidth         fSize         fConc        fConc1  \\\n",
       "count  19020.000000  19020.000000  19020.000000  19020.000000  19020.000000   \n",
       "mean      53.250154     22.180966      2.825017      0.380327      0.214657   \n",
       "std       42.364855     18.346056      0.472599      0.182813      0.110511   \n",
       "min        4.283500      0.000000      1.941300      0.013100      0.000300   \n",
       "25%       24.336000     11.863800      2.477100      0.235800      0.128475   \n",
       "50%       37.147700     17.139900      2.739600      0.354150      0.196500   \n",
       "75%       70.122175     24.739475      3.101600      0.503700      0.285225   \n",
       "max      334.177000    256.382000      5.323300      0.893000      0.675200   \n",
       "\n",
       "              fAsym       fM3Long      fM3Trans        fAlpha         fDist  \n",
       "count  19020.000000  19020.000000  19020.000000  19020.000000  19020.000000  \n",
       "mean      -4.331745     10.545545      0.249726     27.645707    193.818026  \n",
       "std       59.206062     51.000118     20.827439     26.103621     74.731787  \n",
       "min     -457.916100   -331.780000   -205.894700      0.000000      1.282600  \n",
       "25%      -20.586550    -12.842775    -10.849375      5.547925    142.492250  \n",
       "50%        4.013050     15.314100      0.666200     17.679500    191.851450  \n",
       "75%       24.063700     35.837800     10.946425     45.883550    240.563825  \n",
       "max      575.240700    238.321000    179.851000     90.000000    495.561000  "
      ]
     },
     "execution_count": 4,
     "metadata": {},
     "output_type": "execute_result"
    }
   ],
   "source": [
    "df.describe()"
   ]
  },
  {
   "cell_type": "code",
   "execution_count": 5,
   "metadata": {},
   "outputs": [
    {
     "data": {
      "text/plain": [
       "g    12332\n",
       "h     6688\n",
       "Name: class, dtype: int64"
      ]
     },
     "execution_count": 5,
     "metadata": {},
     "output_type": "execute_result"
    }
   ],
   "source": [
    "df['class'].value_counts()\n",
    "# g = gamma (signal)     12332\n",
    "# h = hadron (background) 6688"
   ]
  },
  {
   "cell_type": "code",
   "execution_count": 6,
   "metadata": {},
   "outputs": [
    {
     "data": {
      "text/html": [
       "<div>\n",
       "<style scoped>\n",
       "    .dataframe tbody tr th:only-of-type {\n",
       "        vertical-align: middle;\n",
       "    }\n",
       "\n",
       "    .dataframe tbody tr th {\n",
       "        vertical-align: top;\n",
       "    }\n",
       "\n",
       "    .dataframe thead th {\n",
       "        text-align: right;\n",
       "    }\n",
       "</style>\n",
       "<table border=\"1\" class=\"dataframe\">\n",
       "  <thead>\n",
       "    <tr style=\"text-align: right;\">\n",
       "      <th></th>\n",
       "      <th>fLength</th>\n",
       "      <th>fWidth</th>\n",
       "      <th>fSize</th>\n",
       "      <th>fConc</th>\n",
       "      <th>fConc1</th>\n",
       "      <th>fAsym</th>\n",
       "      <th>fM3Long</th>\n",
       "      <th>fM3Trans</th>\n",
       "      <th>fAlpha</th>\n",
       "      <th>fDist</th>\n",
       "    </tr>\n",
       "  </thead>\n",
       "  <tbody>\n",
       "    <tr>\n",
       "      <th>count</th>\n",
       "      <td>12332.000000</td>\n",
       "      <td>12332.000000</td>\n",
       "      <td>12332.000000</td>\n",
       "      <td>12332.000000</td>\n",
       "      <td>12332.000000</td>\n",
       "      <td>12332.000000</td>\n",
       "      <td>12332.000000</td>\n",
       "      <td>12332.000000</td>\n",
       "      <td>12332.000000</td>\n",
       "      <td>12332.000000</td>\n",
       "    </tr>\n",
       "    <tr>\n",
       "      <th>mean</th>\n",
       "      <td>43.654539</td>\n",
       "      <td>18.592698</td>\n",
       "      <td>2.784021</td>\n",
       "      <td>0.383641</td>\n",
       "      <td>0.215048</td>\n",
       "      <td>3.236653</td>\n",
       "      <td>17.809413</td>\n",
       "      <td>0.190873</td>\n",
       "      <td>18.784309</td>\n",
       "      <td>190.229712</td>\n",
       "    </tr>\n",
       "    <tr>\n",
       "      <th>std</th>\n",
       "      <td>26.173434</td>\n",
       "      <td>9.028666</td>\n",
       "      <td>0.463083</td>\n",
       "      <td>0.177979</td>\n",
       "      <td>0.106201</td>\n",
       "      <td>39.632629</td>\n",
       "      <td>33.942780</td>\n",
       "      <td>13.551423</td>\n",
       "      <td>21.482585</td>\n",
       "      <td>70.302384</td>\n",
       "    </tr>\n",
       "    <tr>\n",
       "      <th>min</th>\n",
       "      <td>12.192900</td>\n",
       "      <td>0.000000</td>\n",
       "      <td>1.997800</td>\n",
       "      <td>0.013900</td>\n",
       "      <td>0.007300</td>\n",
       "      <td>-349.757000</td>\n",
       "      <td>-198.867000</td>\n",
       "      <td>-91.348500</td>\n",
       "      <td>0.000000</td>\n",
       "      <td>5.745600</td>\n",
       "    </tr>\n",
       "    <tr>\n",
       "      <th>25%</th>\n",
       "      <td>23.671625</td>\n",
       "      <td>12.244325</td>\n",
       "      <td>2.433800</td>\n",
       "      <td>0.243075</td>\n",
       "      <td>0.132475</td>\n",
       "      <td>-14.387100</td>\n",
       "      <td>-8.924800</td>\n",
       "      <td>-10.540775</td>\n",
       "      <td>3.606275</td>\n",
       "      <td>142.671750</td>\n",
       "    </tr>\n",
       "    <tr>\n",
       "      <th>50%</th>\n",
       "      <td>34.558000</td>\n",
       "      <td>17.053300</td>\n",
       "      <td>2.704800</td>\n",
       "      <td>0.352600</td>\n",
       "      <td>0.195000</td>\n",
       "      <td>6.638150</td>\n",
       "      <td>16.912650</td>\n",
       "      <td>1.328000</td>\n",
       "      <td>9.708150</td>\n",
       "      <td>188.120000</td>\n",
       "    </tr>\n",
       "    <tr>\n",
       "      <th>75%</th>\n",
       "      <td>58.972125</td>\n",
       "      <td>22.652675</td>\n",
       "      <td>3.056150</td>\n",
       "      <td>0.500150</td>\n",
       "      <td>0.281600</td>\n",
       "      <td>24.872650</td>\n",
       "      <td>37.701075</td>\n",
       "      <td>10.620550</td>\n",
       "      <td>25.809000</td>\n",
       "      <td>234.784750</td>\n",
       "    </tr>\n",
       "    <tr>\n",
       "      <th>max</th>\n",
       "      <td>272.063000</td>\n",
       "      <td>176.335000</td>\n",
       "      <td>5.010000</td>\n",
       "      <td>0.888900</td>\n",
       "      <td>0.675200</td>\n",
       "      <td>219.896000</td>\n",
       "      <td>215.894000</td>\n",
       "      <td>101.393000</td>\n",
       "      <td>90.000000</td>\n",
       "      <td>450.402000</td>\n",
       "    </tr>\n",
       "  </tbody>\n",
       "</table>\n",
       "</div>"
      ],
      "text/plain": [
       "            fLength        fWidth         fSize         fConc        fConc1  \\\n",
       "count  12332.000000  12332.000000  12332.000000  12332.000000  12332.000000   \n",
       "mean      43.654539     18.592698      2.784021      0.383641      0.215048   \n",
       "std       26.173434      9.028666      0.463083      0.177979      0.106201   \n",
       "min       12.192900      0.000000      1.997800      0.013900      0.007300   \n",
       "25%       23.671625     12.244325      2.433800      0.243075      0.132475   \n",
       "50%       34.558000     17.053300      2.704800      0.352600      0.195000   \n",
       "75%       58.972125     22.652675      3.056150      0.500150      0.281600   \n",
       "max      272.063000    176.335000      5.010000      0.888900      0.675200   \n",
       "\n",
       "              fAsym       fM3Long      fM3Trans        fAlpha         fDist  \n",
       "count  12332.000000  12332.000000  12332.000000  12332.000000  12332.000000  \n",
       "mean       3.236653     17.809413      0.190873     18.784309    190.229712  \n",
       "std       39.632629     33.942780     13.551423     21.482585     70.302384  \n",
       "min     -349.757000   -198.867000    -91.348500      0.000000      5.745600  \n",
       "25%      -14.387100     -8.924800    -10.540775      3.606275    142.671750  \n",
       "50%        6.638150     16.912650      1.328000      9.708150    188.120000  \n",
       "75%       24.872650     37.701075     10.620550     25.809000    234.784750  \n",
       "max      219.896000    215.894000    101.393000     90.000000    450.402000  "
      ]
     },
     "execution_count": 6,
     "metadata": {},
     "output_type": "execute_result"
    }
   ],
   "source": [
    "df[df['class'] == 'g'].describe()\n"
   ]
  },
  {
   "cell_type": "code",
   "execution_count": 7,
   "metadata": {},
   "outputs": [
    {
     "data": {
      "text/html": [
       "<div>\n",
       "<style scoped>\n",
       "    .dataframe tbody tr th:only-of-type {\n",
       "        vertical-align: middle;\n",
       "    }\n",
       "\n",
       "    .dataframe tbody tr th {\n",
       "        vertical-align: top;\n",
       "    }\n",
       "\n",
       "    .dataframe thead th {\n",
       "        text-align: right;\n",
       "    }\n",
       "</style>\n",
       "<table border=\"1\" class=\"dataframe\">\n",
       "  <thead>\n",
       "    <tr style=\"text-align: right;\">\n",
       "      <th></th>\n",
       "      <th>fLength</th>\n",
       "      <th>fWidth</th>\n",
       "      <th>fSize</th>\n",
       "      <th>fConc</th>\n",
       "      <th>fConc1</th>\n",
       "      <th>fAsym</th>\n",
       "      <th>fM3Long</th>\n",
       "      <th>fM3Trans</th>\n",
       "      <th>fAlpha</th>\n",
       "      <th>fDist</th>\n",
       "    </tr>\n",
       "  </thead>\n",
       "  <tbody>\n",
       "    <tr>\n",
       "      <th>count</th>\n",
       "      <td>6688.000000</td>\n",
       "      <td>6688.000000</td>\n",
       "      <td>6688.000000</td>\n",
       "      <td>6688.000000</td>\n",
       "      <td>6688.000000</td>\n",
       "      <td>6688.000000</td>\n",
       "      <td>6688.000000</td>\n",
       "      <td>6688.000000</td>\n",
       "      <td>6688.000000</td>\n",
       "      <td>6688.000000</td>\n",
       "    </tr>\n",
       "    <tr>\n",
       "      <th>mean</th>\n",
       "      <td>70.943504</td>\n",
       "      <td>28.797373</td>\n",
       "      <td>2.900609</td>\n",
       "      <td>0.374217</td>\n",
       "      <td>0.213937</td>\n",
       "      <td>-18.287111</td>\n",
       "      <td>-2.848298</td>\n",
       "      <td>0.358245</td>\n",
       "      <td>43.985233</td>\n",
       "      <td>200.434517</td>\n",
       "    </tr>\n",
       "    <tr>\n",
       "      <th>std</th>\n",
       "      <td>57.952729</td>\n",
       "      <td>27.192623</td>\n",
       "      <td>0.480612</td>\n",
       "      <td>0.191270</td>\n",
       "      <td>0.118051</td>\n",
       "      <td>82.297875</td>\n",
       "      <td>70.685797</td>\n",
       "      <td>29.918149</td>\n",
       "      <td>25.983935</td>\n",
       "      <td>81.870474</td>\n",
       "    </tr>\n",
       "    <tr>\n",
       "      <th>min</th>\n",
       "      <td>4.283500</td>\n",
       "      <td>0.000000</td>\n",
       "      <td>1.941300</td>\n",
       "      <td>0.013100</td>\n",
       "      <td>0.000300</td>\n",
       "      <td>-457.916100</td>\n",
       "      <td>-331.780000</td>\n",
       "      <td>-205.894700</td>\n",
       "      <td>0.009700</td>\n",
       "      <td>1.282600</td>\n",
       "    </tr>\n",
       "    <tr>\n",
       "      <th>25%</th>\n",
       "      <td>26.145400</td>\n",
       "      <td>11.243525</td>\n",
       "      <td>2.554775</td>\n",
       "      <td>0.219600</td>\n",
       "      <td>0.120500</td>\n",
       "      <td>-43.878875</td>\n",
       "      <td>-27.151475</td>\n",
       "      <td>-11.803875</td>\n",
       "      <td>21.195000</td>\n",
       "      <td>142.274250</td>\n",
       "    </tr>\n",
       "    <tr>\n",
       "      <th>50%</th>\n",
       "      <td>47.905400</td>\n",
       "      <td>17.384150</td>\n",
       "      <td>2.797650</td>\n",
       "      <td>0.358000</td>\n",
       "      <td>0.200250</td>\n",
       "      <td>-1.539600</td>\n",
       "      <td>11.124600</td>\n",
       "      <td>0.382600</td>\n",
       "      <td>43.382900</td>\n",
       "      <td>199.869550</td>\n",
       "    </tr>\n",
       "    <tr>\n",
       "      <th>75%</th>\n",
       "      <td>104.026925</td>\n",
       "      <td>36.464100</td>\n",
       "      <td>3.179850</td>\n",
       "      <td>0.510525</td>\n",
       "      <td>0.291325</td>\n",
       "      <td>22.087450</td>\n",
       "      <td>32.086275</td>\n",
       "      <td>11.972650</td>\n",
       "      <td>66.557550</td>\n",
       "      <td>250.789675</td>\n",
       "    </tr>\n",
       "    <tr>\n",
       "      <th>max</th>\n",
       "      <td>334.177000</td>\n",
       "      <td>256.382000</td>\n",
       "      <td>5.323300</td>\n",
       "      <td>0.893000</td>\n",
       "      <td>0.643000</td>\n",
       "      <td>575.240700</td>\n",
       "      <td>238.321000</td>\n",
       "      <td>179.851000</td>\n",
       "      <td>90.000000</td>\n",
       "      <td>495.561000</td>\n",
       "    </tr>\n",
       "  </tbody>\n",
       "</table>\n",
       "</div>"
      ],
      "text/plain": [
       "           fLength       fWidth        fSize        fConc       fConc1  \\\n",
       "count  6688.000000  6688.000000  6688.000000  6688.000000  6688.000000   \n",
       "mean     70.943504    28.797373     2.900609     0.374217     0.213937   \n",
       "std      57.952729    27.192623     0.480612     0.191270     0.118051   \n",
       "min       4.283500     0.000000     1.941300     0.013100     0.000300   \n",
       "25%      26.145400    11.243525     2.554775     0.219600     0.120500   \n",
       "50%      47.905400    17.384150     2.797650     0.358000     0.200250   \n",
       "75%     104.026925    36.464100     3.179850     0.510525     0.291325   \n",
       "max     334.177000   256.382000     5.323300     0.893000     0.643000   \n",
       "\n",
       "             fAsym      fM3Long     fM3Trans       fAlpha        fDist  \n",
       "count  6688.000000  6688.000000  6688.000000  6688.000000  6688.000000  \n",
       "mean    -18.287111    -2.848298     0.358245    43.985233   200.434517  \n",
       "std      82.297875    70.685797    29.918149    25.983935    81.870474  \n",
       "min    -457.916100  -331.780000  -205.894700     0.009700     1.282600  \n",
       "25%     -43.878875   -27.151475   -11.803875    21.195000   142.274250  \n",
       "50%      -1.539600    11.124600     0.382600    43.382900   199.869550  \n",
       "75%      22.087450    32.086275    11.972650    66.557550   250.789675  \n",
       "max     575.240700   238.321000   179.851000    90.000000   495.561000  "
      ]
     },
     "execution_count": 7,
     "metadata": {},
     "output_type": "execute_result"
    }
   ],
   "source": [
    "df[df['class'] == 'h'].describe()"
   ]
  },
  {
   "cell_type": "code",
   "execution_count": 8,
   "metadata": {},
   "outputs": [
    {
     "name": "stdout",
     "output_type": "stream",
     "text": [
      "<class 'pandas.core.frame.DataFrame'>\n",
      "RangeIndex: 19020 entries, 0 to 19019\n",
      "Data columns (total 11 columns):\n",
      " #   Column    Non-Null Count  Dtype  \n",
      "---  ------    --------------  -----  \n",
      " 0   fLength   19020 non-null  float64\n",
      " 1   fWidth    19020 non-null  float64\n",
      " 2   fSize     19020 non-null  float64\n",
      " 3   fConc     19020 non-null  float64\n",
      " 4   fConc1    19020 non-null  float64\n",
      " 5   fAsym     19020 non-null  float64\n",
      " 6   fM3Long   19020 non-null  float64\n",
      " 7   fM3Trans  19020 non-null  float64\n",
      " 8   fAlpha    19020 non-null  float64\n",
      " 9   fDist     19020 non-null  float64\n",
      " 10  class     19020 non-null  object \n",
      "dtypes: float64(10), object(1)\n",
      "memory usage: 1.6+ MB\n"
     ]
    }
   ],
   "source": [
    "df.info()"
   ]
  },
  {
   "cell_type": "code",
   "execution_count": 9,
   "metadata": {},
   "outputs": [
    {
     "data": {
      "text/plain": [
       "fLength     0\n",
       "fWidth      0\n",
       "fSize       0\n",
       "fConc       0\n",
       "fConc1      0\n",
       "fAsym       0\n",
       "fM3Long     0\n",
       "fM3Trans    0\n",
       "fAlpha      0\n",
       "fDist       0\n",
       "class       0\n",
       "dtype: int64"
      ]
     },
     "execution_count": 9,
     "metadata": {},
     "output_type": "execute_result"
    }
   ],
   "source": [
    "# Check for missing values\n",
    "df.isnull().sum()"
   ]
  },
  {
   "cell_type": "code",
   "execution_count": 10,
   "metadata": {},
   "outputs": [
    {
     "data": {
      "text/plain": [
       "0        g\n",
       "1        g\n",
       "2        g\n",
       "3        g\n",
       "4        g\n",
       "        ..\n",
       "19015    h\n",
       "19016    h\n",
       "19017    h\n",
       "19018    h\n",
       "19019    h\n",
       "Name: class, Length: 19020, dtype: object"
      ]
     },
     "execution_count": 10,
     "metadata": {},
     "output_type": "execute_result"
    }
   ],
   "source": [
    "df['class']"
   ]
  },
  {
   "cell_type": "code",
   "execution_count": 11,
   "metadata": {},
   "outputs": [
    {
     "data": {
      "text/plain": [
       "0        1\n",
       "1        1\n",
       "2        1\n",
       "3        1\n",
       "4        1\n",
       "        ..\n",
       "19015    0\n",
       "19016    0\n",
       "19017    0\n",
       "19018    0\n",
       "19019    0\n",
       "Name: class, Length: 19020, dtype: int64"
      ]
     },
     "execution_count": 11,
     "metadata": {},
     "output_type": "execute_result"
    }
   ],
   "source": [
    "df['class'] = (df['class']=='g').astype(int)\n",
    "df['class']"
   ]
  },
  {
   "cell_type": "code",
   "execution_count": 12,
   "metadata": {},
   "outputs": [
    {
     "name": "stdout",
     "output_type": "stream",
     "text": [
      "<class 'pandas.core.frame.DataFrame'>\n",
      "RangeIndex: 19020 entries, 0 to 19019\n",
      "Data columns (total 11 columns):\n",
      " #   Column    Non-Null Count  Dtype  \n",
      "---  ------    --------------  -----  \n",
      " 0   fLength   19020 non-null  float64\n",
      " 1   fWidth    19020 non-null  float64\n",
      " 2   fSize     19020 non-null  float64\n",
      " 3   fConc     19020 non-null  float64\n",
      " 4   fConc1    19020 non-null  float64\n",
      " 5   fAsym     19020 non-null  float64\n",
      " 6   fM3Long   19020 non-null  float64\n",
      " 7   fM3Trans  19020 non-null  float64\n",
      " 8   fAlpha    19020 non-null  float64\n",
      " 9   fDist     19020 non-null  float64\n",
      " 10  class     19020 non-null  int64  \n",
      "dtypes: float64(10), int64(1)\n",
      "memory usage: 1.6 MB\n"
     ]
    }
   ],
   "source": [
    "df.info() # all are numeric now\n",
    "# this dataset don't need to do one-hot encoding"
   ]
  },
  {
   "cell_type": "code",
   "execution_count": 13,
   "metadata": {},
   "outputs": [
    {
     "data": {
      "text/html": [
       "<div>\n",
       "<style scoped>\n",
       "    .dataframe tbody tr th:only-of-type {\n",
       "        vertical-align: middle;\n",
       "    }\n",
       "\n",
       "    .dataframe tbody tr th {\n",
       "        vertical-align: top;\n",
       "    }\n",
       "\n",
       "    .dataframe thead th {\n",
       "        text-align: right;\n",
       "    }\n",
       "</style>\n",
       "<table border=\"1\" class=\"dataframe\">\n",
       "  <thead>\n",
       "    <tr style=\"text-align: right;\">\n",
       "      <th></th>\n",
       "      <th>fLength</th>\n",
       "      <th>fWidth</th>\n",
       "      <th>fSize</th>\n",
       "      <th>fConc</th>\n",
       "      <th>fConc1</th>\n",
       "      <th>fAsym</th>\n",
       "      <th>fM3Long</th>\n",
       "      <th>fM3Trans</th>\n",
       "      <th>fAlpha</th>\n",
       "      <th>fDist</th>\n",
       "      <th>class</th>\n",
       "    </tr>\n",
       "  </thead>\n",
       "  <tbody>\n",
       "    <tr>\n",
       "      <th>0</th>\n",
       "      <td>28.7967</td>\n",
       "      <td>16.0021</td>\n",
       "      <td>2.6449</td>\n",
       "      <td>0.3918</td>\n",
       "      <td>0.1982</td>\n",
       "      <td>27.7004</td>\n",
       "      <td>22.0110</td>\n",
       "      <td>-8.2027</td>\n",
       "      <td>40.0920</td>\n",
       "      <td>81.8828</td>\n",
       "      <td>1</td>\n",
       "    </tr>\n",
       "    <tr>\n",
       "      <th>1</th>\n",
       "      <td>31.6036</td>\n",
       "      <td>11.7235</td>\n",
       "      <td>2.5185</td>\n",
       "      <td>0.5303</td>\n",
       "      <td>0.3773</td>\n",
       "      <td>26.2722</td>\n",
       "      <td>23.8238</td>\n",
       "      <td>-9.9574</td>\n",
       "      <td>6.3609</td>\n",
       "      <td>205.2610</td>\n",
       "      <td>1</td>\n",
       "    </tr>\n",
       "    <tr>\n",
       "      <th>2</th>\n",
       "      <td>162.0520</td>\n",
       "      <td>136.0310</td>\n",
       "      <td>4.0612</td>\n",
       "      <td>0.0374</td>\n",
       "      <td>0.0187</td>\n",
       "      <td>116.7410</td>\n",
       "      <td>-64.8580</td>\n",
       "      <td>-45.2160</td>\n",
       "      <td>76.9600</td>\n",
       "      <td>256.7880</td>\n",
       "      <td>1</td>\n",
       "    </tr>\n",
       "    <tr>\n",
       "      <th>3</th>\n",
       "      <td>23.8172</td>\n",
       "      <td>9.5728</td>\n",
       "      <td>2.3385</td>\n",
       "      <td>0.6147</td>\n",
       "      <td>0.3922</td>\n",
       "      <td>27.2107</td>\n",
       "      <td>-6.4633</td>\n",
       "      <td>-7.1513</td>\n",
       "      <td>10.4490</td>\n",
       "      <td>116.7370</td>\n",
       "      <td>1</td>\n",
       "    </tr>\n",
       "    <tr>\n",
       "      <th>4</th>\n",
       "      <td>75.1362</td>\n",
       "      <td>30.9205</td>\n",
       "      <td>3.1611</td>\n",
       "      <td>0.3168</td>\n",
       "      <td>0.1832</td>\n",
       "      <td>-5.5277</td>\n",
       "      <td>28.5525</td>\n",
       "      <td>21.8393</td>\n",
       "      <td>4.6480</td>\n",
       "      <td>356.4620</td>\n",
       "      <td>1</td>\n",
       "    </tr>\n",
       "  </tbody>\n",
       "</table>\n",
       "</div>"
      ],
      "text/plain": [
       "    fLength    fWidth   fSize   fConc  fConc1     fAsym  fM3Long  fM3Trans  \\\n",
       "0   28.7967   16.0021  2.6449  0.3918  0.1982   27.7004  22.0110   -8.2027   \n",
       "1   31.6036   11.7235  2.5185  0.5303  0.3773   26.2722  23.8238   -9.9574   \n",
       "2  162.0520  136.0310  4.0612  0.0374  0.0187  116.7410 -64.8580  -45.2160   \n",
       "3   23.8172    9.5728  2.3385  0.6147  0.3922   27.2107  -6.4633   -7.1513   \n",
       "4   75.1362   30.9205  3.1611  0.3168  0.1832   -5.5277  28.5525   21.8393   \n",
       "\n",
       "    fAlpha     fDist  class  \n",
       "0  40.0920   81.8828      1  \n",
       "1   6.3609  205.2610      1  \n",
       "2  76.9600  256.7880      1  \n",
       "3  10.4490  116.7370      1  \n",
       "4   4.6480  356.4620      1  "
      ]
     },
     "execution_count": 13,
     "metadata": {},
     "output_type": "execute_result"
    }
   ],
   "source": [
    "df.head()"
   ]
  },
  {
   "cell_type": "code",
   "execution_count": 21,
   "metadata": {},
   "outputs": [
    {
     "data": {
      "image/png": "[encoded data removed]",
      "text/plain": [
       "<Figure size 640x480 with 1 Axes>"
      ]
     },
     "metadata": {},
     "output_type": "display_data"
    },
    {
     "data": {
      "image/png": "[encoded data removed]",
      "text/plain": [
       "<Figure size 640x480 with 1 Axes>"
      ]
     },
     "metadata": {},
     "output_type": "display_data"
    },
    {
     "data": {
      "image/png": "[encoded data removed]",
      "text/plain": [
       "<Figure size 640x480 with 1 Axes>"
      ]
     },
     "metadata": {},
     "output_type": "display_data"
    },
    {
     "data": {
      "image/png": "[encoded data removed]",
      "text/plain": [
       "<Figure size 640x480 with 1 Axes>"
      ]
     },
     "metadata": {},
     "output_type": "display_data"
    },
    {
     "data": {
      "image/png": "[encoded data removed]",
      "text/plain": [
       "<Figure size 640x480 with 1 Axes>"
      ]
     },
     "metadata": {},
     "output_type": "display_data"
    },
    {
     "data": {
      "image/png": "[encoded data removed]",
      "text/plain": [
       "<Figure size 640x480 with 1 Axes>"
      ]
     },
     "metadata": {},
     "output_type": "display_data"
    },
    {
     "data": {
      "image/png": "[encoded data removed]",
      "text/plain": [
       "<Figure size 640x480 with 1 Axes>"
      ]
     },
     "metadata": {},
     "output_type": "display_data"
    },
    {
     "data": {
      "image/png": "[encoded data removed]",
      "text/plain": [
       "<Figure size 640x480 with 1 Axes>"
      ]
     },
     "metadata": {},
     "output_type": "display_data"
    },
    {
     "data": {
      "image/png": "[encoded data removed]",
      "text/plain": [
       "<Figure size 640x480 with 1 Axes>"
      ]
     },
     "metadata": {},
     "output_type": "display_data"
    },
    {
     "data": {
      "image/png": "[encoded data removed]",
      "text/plain": [
       "<Figure size 640x480 with 1 Axes>"
      ]
     },
     "metadata": {},
     "output_type": "display_data"
    }
   ],
   "source": [
    "for label in df.columns[:-1]:\n",
    "    plt.hist(df[df['class'] == 1][label], color = 'red', alpha=0.5, density = True)\n",
    "    plt.hist(df[df['class'] == 0][label], color = 'blue', alpha=0.5, density = True)\n",
    "    plt.title(label)\n",
    "    plt.legend(['gamma', 'hadron'])\n",
    "    plt.xlabel(label)\n",
    "    plt.ylabel('Probability Density')\n",
    "    plt.show()\n",
    "# g = gamma (signal)     12332\n",
    "# h = hadron (background) 6688"
   ]
  },
  {
   "cell_type": "code",
   "execution_count": 30,
   "metadata": {},
   "outputs": [],
   "source": [
    "# set train validation test split\n",
    "X = df.drop('class', axis=1)\n",
    "y = df['class']\n",
    "\n",
    "X_train, X_test, y_train, y_test = train_test_split(X, y, test_size=0.2, random_state=2021)\n",
    "X_train, X_val, y_train, y_val = train_test_split(X_train, y_train, test_size=0.2, random_state=2021)\n"
   ]
  },
  {
   "cell_type": "code",
   "execution_count": null,
   "metadata": {},
   "outputs": [],
   "source": [
    "#standardize the data\n",
    "scaler = StandardScaler()\n",
    "X_train = scaler.fit_transform(X_train)\n",
    "X_val = scaler.transform(X_val)\n",
    "X_test = scaler.transform(X_test)\n"
   ]
  },
  {
   "cell_type": "code",
   "execution_count": 37,
   "metadata": {},
   "outputs": [
    {
     "data": {
      "text/plain": [
       "array([[173.256 ,  78.768 ,   4.2821, ..., -60.4553,  79.259 , 374.5748],\n",
       "       [ 13.1994,  10.8032,   2.224 , ..., -11.7029,  54.0277, 181.817 ],\n",
       "       [ 57.6389,  19.9578,   2.9183, ...,  18.4333,   0.619 , 113.551 ],\n",
       "       ...,\n",
       "       [ 28.7776,  15.095 ,   2.4683, ..., -10.0492,  30.035 ,  97.7925],\n",
       "       [173.943 ,  55.7884,   3.1599, ...,  57.0811,  54.566 , 128.882 ],\n",
       "       [ 94.772 ,  30.7871,   3.5949, ...,  17.1236,   4.109 , 200.597 ]])"
      ]
     },
     "execution_count": 37,
     "metadata": {},
     "output_type": "execute_result"
    }
   ],
   "source": [
    "X_train.values"
   ]
  },
  {
   "cell_type": "code",
   "execution_count": 38,
   "metadata": {},
   "outputs": [
    {
     "data": {
      "text/plain": [
       "array([1, 1, 1, ..., 0, 0, 0])"
      ]
     },
     "execution_count": 38,
     "metadata": {},
     "output_type": "execute_result"
    }
   ],
   "source": [
    "y.values"
   ]
  },
  {
   "cell_type": "code",
   "execution_count": 39,
   "metadata": {},
   "outputs": [
    {
     "data": {
      "text/plain": [
       "array([[1],\n",
       "       [1],\n",
       "       [1],\n",
       "       ...,\n",
       "       [0],\n",
       "       [0],\n",
       "       [0]])"
      ]
     },
     "execution_count": 39,
     "metadata": {},
     "output_type": "execute_result"
    }
   ],
   "source": [
    "np.reshape(y.values , (-1,1))"
   ]
  },
  {
   "cell_type": "code",
   "execution_count": 43,
   "metadata": {},
   "outputs": [],
   "source": [
    "data = np.hstack((X_train, np.reshape(y_train.values , (-1,1))))\n"
   ]
  },
  {
   "cell_type": "code",
   "execution_count": 49,
   "metadata": {},
   "outputs": [
    {
     "data": {
      "text/plain": [
       "(12172, 11)"
      ]
     },
     "execution_count": 49,
     "metadata": {},
     "output_type": "execute_result"
    }
   ],
   "source": [
    "data.shape"
   ]
  },
  {
   "cell_type": "code",
   "execution_count": 50,
   "metadata": {},
   "outputs": [
    {
     "data": {
      "text/plain": [
       "(12172, 10)"
      ]
     },
     "execution_count": 50,
     "metadata": {},
     "output_type": "execute_result"
    }
   ],
   "source": [
    "X_train.shape"
   ]
  },
  {
   "cell_type": "code",
   "execution_count": 53,
   "metadata": {},
   "outputs": [
    {
     "data": {
      "text/plain": [
       "array([0., 1., 1., ..., 1., 0., 1.])"
      ]
     },
     "execution_count": 53,
     "metadata": {},
     "output_type": "execute_result"
    }
   ],
   "source": [
    "data[:, -1]"
   ]
  },
  {
   "cell_type": "code",
   "execution_count": 57,
   "metadata": {},
   "outputs": [
    {
     "data": {
      "text/plain": [
       "array([0, 1, 1, ..., 1, 0, 1])"
      ]
     },
     "execution_count": 57,
     "metadata": {},
     "output_type": "execute_result"
    }
   ],
   "source": [
    "y_train.values"
   ]
  },
  {
   "cell_type": "code",
   "execution_count": 64,
   "metadata": {},
   "outputs": [
    {
     "name": "stdout",
     "output_type": "stream",
     "text": [
      "dataset size (15838,)\n"
     ]
    },
    {
     "data": {
      "text/plain": [
       "0    7919\n",
       "1    7919\n",
       "Name: class, dtype: int64"
      ]
     },
     "execution_count": 64,
     "metadata": {},
     "output_type": "execute_result"
    }
   ],
   "source": [
    "rosampler = RandomOverSampler()\n",
    "X_train, y_train = rosampler.fit_resample(X_train, y_train)\n",
    "print(\"dataset size\", y_train.shape)\n",
    "y_train.value_counts()"
   ]
  },
  {
   "cell_type": "code",
   "execution_count": 84,
   "metadata": {},
   "outputs": [],
   "source": [
    "#cross validate the model\n",
    "# import random forest classifier\n",
    "from sklearn.ensemble import RandomForestClassifier\n",
    "from sklearn.neighbors import KNeighborsClassifier\n",
    "from sklearn.model_selection import cross_val_score\n",
    "from sklearn.linear_model import LogisticRegression\n",
    "from sklearn.metrics import accuracy_score, precision_score, recall_score, f1_score, roc_auc_score, roc_curve, confusion_matrix\n",
    "\n",
    "model = RandomForestClassifier()\n",
    "scores = cross_val_score(model, X_train, y_train, cv=5, scoring='roc_auc')\n",
    "\n"
   ]
  },
  {
   "cell_type": "code",
   "execution_count": 85,
   "metadata": {},
   "outputs": [
    {
     "name": "stdout",
     "output_type": "stream",
     "text": [
      "Cross-validation scores: [0.97337664 0.96922508 0.96784069 0.99416903 0.99540414]\n",
      "Mean score: 0.9800031154259885\n",
      "Standard deviation: 0.01221364190224603\n"
     ]
    }
   ],
   "source": [
    "# Print the cross-validation scores\n",
    "print(\"Cross-validation scores:\", scores)\n",
    "# Calculate and print the mean score and standard deviation\n",
    "print(\"Mean score:\", scores.mean())\n",
    "print(\"Standard deviation:\", scores.std())"
   ]
  },
  {
   "cell_type": "code",
   "execution_count": 86,
   "metadata": {},
   "outputs": [
    {
     "name": "stdout",
     "output_type": "stream",
     "text": [
      "Cross-validation scores: [0.9207702  0.9135101  0.91414141 0.95579413 0.95705715]\n",
      "Mean score: 0.9322545991968948\n",
      "Standard deviation: 0.019902819143343926\n"
     ]
    }
   ],
   "source": [
    "model = RandomForestClassifier()\n",
    "scores = cross_val_score(model, X_train, y_train, cv=5, scoring='accuracy')\n",
    "# Print the cross-validation scores\n",
    "print(\"Cross-validation scores:\", scores)\n",
    "# Calculate and print the mean score and standard deviation\n",
    "print(\"Mean score:\", scores.mean())\n",
    "print(\"Standard deviation:\", scores.std())"
   ]
  },
  {
   "cell_type": "code",
   "execution_count": 87,
   "metadata": {},
   "outputs": [
    {
     "name": "stdout",
     "output_type": "stream",
     "text": [
      "Cross-validation scores: [0.87901067 0.88222104 0.86522182 0.86681726 0.86727349]\n",
      "Mean score: 0.8721088568567076\n",
      "Standard deviation: 0.00705272138165755\n"
     ]
    }
   ],
   "source": [
    "# import svc\n",
    "from sklearn.svm import SVC\n",
    "model = SVC()\n",
    "scores = cross_val_score(model, X_train, y_train, cv=5, scoring='roc_auc')\n",
    "# Print the cross-validation scores\n",
    "print(\"Cross-validation scores:\", scores)\n",
    "# Calculate and print the mean score and standard deviation\n",
    "print(\"Mean score:\", scores.mean())\n",
    "print(\"Standard deviation:\", scores.std())"
   ]
  },
  {
   "cell_type": "code",
   "execution_count": 88,
   "metadata": {},
   "outputs": [
    {
     "name": "stdout",
     "output_type": "stream",
     "text": [
      "Cross-validation scores: [0.79608586 0.80113636 0.78314394 0.78654878 0.7900221 ]\n",
      "Mean score: 0.7913874097782372\n",
      "Standard deviation: 0.006486118799724182\n"
     ]
    }
   ],
   "source": [
    "# import svc\n",
    "from sklearn.svm import SVC\n",
    "model = SVC()\n",
    "scores = cross_val_score(model, X_train, y_train, cv=5, scoring='accuracy')\n",
    "# Print the cross-validation scores\n",
    "print(\"Cross-validation scores:\", scores)\n",
    "# Calculate and print the mean score and standard deviation\n",
    "print(\"Mean score:\", scores.mean())\n",
    "print(\"Standard deviation:\", scores.std())"
   ]
  },
  {
   "cell_type": "code",
   "execution_count": 72,
   "metadata": {},
   "outputs": [
    {
     "name": "stdout",
     "output_type": "stream",
     "text": [
      "              precision    recall  f1-score   support\n",
      "\n",
      "           0       0.66      0.69      0.68      1363\n",
      "           1       0.82      0.80      0.81      2441\n",
      "\n",
      "    accuracy                           0.76      3804\n",
      "   macro avg       0.74      0.75      0.75      3804\n",
      "weighted avg       0.77      0.76      0.77      3804\n",
      "\n"
     ]
    }
   ],
   "source": [
    "from sklearn.neighbors import KNeighborsClassifier\n",
    "from sklearn.metrics import classification_report\n",
    "\n",
    "model = KNeighborsClassifier(n_neighbors=3)\n",
    "model.fit(X_train, y_train)\n",
    "y_pred = model.predict(X_test)\n",
    "print(classification_report(y_test, y_pred))"
   ]
  },
  {
   "cell_type": "code",
   "execution_count": 68,
   "metadata": {},
   "outputs": [
    {
     "name": "stdout",
     "output_type": "stream",
     "text": [
      "              precision    recall  f1-score   support\n",
      "\n",
      "           0       0.71      0.42      0.53      1363\n",
      "           1       0.74      0.90      0.81      2441\n",
      "\n",
      "    accuracy                           0.73      3804\n",
      "   macro avg       0.72      0.66      0.67      3804\n",
      "weighted avg       0.73      0.73      0.71      3804\n",
      "\n"
     ]
    }
   ],
   "source": [
    "from sklearn.naive_bayes import GaussianNB\n",
    "nb_model = GaussianNB()\n",
    "nb_model = nb_model.fit(X_train, y_train)\n",
    "y_pred = nb_model.predict(X_test)\n",
    "print(classification_report(y_test, y_pred))"
   ]
  },
  {
   "cell_type": "code",
   "execution_count": 69,
   "metadata": {},
   "outputs": [
    {
     "name": "stdout",
     "output_type": "stream",
     "text": [
      "              precision    recall  f1-score   support\n",
      "\n",
      "           0       0.66      0.73      0.69      1363\n",
      "           1       0.84      0.79      0.81      2441\n",
      "\n",
      "    accuracy                           0.77      3804\n",
      "   macro avg       0.75      0.76      0.75      3804\n",
      "weighted avg       0.77      0.77      0.77      3804\n",
      "\n"
     ]
    },
    {
     "name": "stderr",
     "output_type": "stream",
     "text": [
      "/Users/ching/opt/anaconda3/lib/python3.9/site-packages/sklearn/linear_model/_logistic.py:814: ConvergenceWarning: lbfgs failed to converge (status=1):\n",
      "STOP: TOTAL NO. of ITERATIONS REACHED LIMIT.\n",
      "\n",
      "Increase the number of iterations (max_iter) or scale the data as shown in:\n",
      "    https://scikit-learn.org/stable/modules/preprocessing.html\n",
      "Please also refer to the documentation for alternative solver options:\n",
      "    https://scikit-learn.org/stable/modules/linear_model.html#logistic-regression\n",
      "  n_iter_i = _check_optimize_result(\n"
     ]
    }
   ],
   "source": [
    "from sklearn.linear_model import LogisticRegression\n",
    "lg_model = LogisticRegression()\n",
    "lg_model = lg_model.fit(X_train, y_train)\n",
    "y_pred = lg_model.predict(X_test)\n",
    "print(classification_report(y_test, y_pred))"
   ]
  },
  {
   "cell_type": "code",
   "execution_count": null,
   "metadata": {},
   "outputs": [],
   "source": []
  }
 ],
 "metadata": {
  "kernelspec": {
   "display_name": "base",
   "language": "python",
   "name": "python3"
  },
  "language_info": {
   "codemirror_mode": {
    "name": "ipython",
    "version": 3
   },
   "file_extension": ".py",
   "mimetype": "text/x-python",
   "name": "python",
   "nbconvert_exporter": "python",
   "pygments_lexer": "ipython3",
   "version": "3.9.16"
  },
  "orig_nbformat": 4
 },
 "nbformat": 4,
 "nbformat_minor": 2
}
